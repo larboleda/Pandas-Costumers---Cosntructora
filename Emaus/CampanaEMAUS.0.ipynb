{
 "cells": [
  {
   "cell_type": "code",
   "execution_count": 1,
   "metadata": {
    "collapsed": true
   },
   "outputs": [],
   "source": [
    "import numpy as np\n",
    "import pandas as pd\n",
    "import matplotlib.pyplot as plt\n",
    "\n",
    "#to download files form website\n",
    "import requests\n",
    "\n",
    "#for facebook\n",
    "import urllib3\n",
    "import facebook \n",
    "import json\n",
    "%matplotlib inline"
   ]
  },
  {
   "cell_type": "code",
   "execution_count": 4,
   "metadata": {
    "collapsed": true
   },
   "outputs": [],
   "source": [
    "token = 'EAAkW0HaDsy0BALLDnsmhB2r9w7PJk1z7QlzxZAnf7Pb2qYgsoIO8XwrbuIedDrQr4EtZC8ZCkxbWwCfnwuVverfGndZA1rw7HLZBg1CUs0jvA0Ui6Y41YA7ZCDGEWvDftDGBVJHwuAhtGw2h6GnmhZCNi0IRxaHwWG9rGgcq7XIkMH8CkYjxgcZBjZCqvnjFn5h6bm9wiZCi9thTSsdPOhDgpG92eX1ZBS6uRBBRyRZBOXe33gZDZD'\n",
    "tokenapp ='2558359387747117|5Gd-HwbhAX7drjfE_PtCJoGjPLQ'"
   ]
  },
  {
   "cell_type": "code",
   "execution_count": 8,
   "metadata": {},
   "outputs": [
    {
     "name": "stdout",
     "output_type": "stream",
     "text": [
      "{\"name\": \"Catalina Arboleda\", \"id\": \"2114852855328145\"}\n",
      "{\"data\": [{\"name\": \"IAU ISYA All Alumni\", \"id\": \"562229033866192\"}, {\"name\": \"ARRIENDO DE HABITACIONES, CASAS Y APT. EN MEDELLIN\", \"id\": \"1825156804384319\"}, {\"name\": \"ALQUILER DE HABITACIONES SOLO MEDELLIN PARA ESTUDIANTES\", \"id\": \"299647633378885\"}, {\"name\": \"HABITACIONES PARA UNIVERSITARIOS  Medell\\u00edn\", \"id\": \"774772542585515\"}, {\"name\": \"HABITACIONES PARA UNIVERSITARIOS ALOJA Medell\\u00edn\", \"id\": \"1536803166581206\"}, {\"name\": \"Trekking\", \"id\": \"1103313029681982\"}, {\"name\": \"Delegaci\\u00f3n Colombia a UG M\\u00e9xico\", \"id\": \"677817929030643\"}, {\"name\": \"Understanding Einstein: The Special Theory of Relativity (Coursera)\", \"id\": \"235803806558481\"}, {\"name\": \"Club Ori\\u00f3n de Astronom\\u00eda de Medell\\u00edn\", \"id\": \"376416784920\"}, {\"name\": \"Grupo  Astro-Fisicos\", \"id\": \"197763300333452\"}, {\"name\": \"Astroparche...\", \"id\": \"177860742270896\"}], \"paging\": {\"cursors\": {\"before\": \"QVFIUjgtSDhaNVFSU1NfVHJpclY1elBBQ1l0RUt0Uk1QNXYxQ0JDMFpYVmx3UTFuMkFpRGVmdlB0X0t5TENubmFueW4xMjZAXSlpIc1F6cUpuVmZAUR3dsU3hB\", \"after\": \"QVFIUlI5R0h6QVNLSENIYW1aSV94WnpvY3JYZADhWMVJQeEhEYUdaY1ItOGxfSmE0d1ZAaQUdwMnZASdkZAuc2ZAreEo4REhTQkVhSjhhSVJRUmNOZATU1LUltcmlR\"}}}\n"
     ]
    }
   ],
   "source": [
    "graph = facebook.GraphAPI(access_token=token, version=3.1)\n",
    "\n",
    "# Get info from my facebook page\n",
    "my_info = graph.get_object(id='me')\n",
    "#return desired fields\n",
    "print(json.dumps(my_info))\n",
    "\n",
    "# Get the active user's friends.\n",
    "friends = graph.get_connections(id='me', connection_name='groups')\n",
    "print(json.dumps(friends))\n",
    "\n",
    "# Get the comments from a post. =saca errorrrr por quéee\n",
    "comments = graph.get_connections(id='2001931163286982', connection_name='comments')\n",
    "\n",
    "\n",
    "\n",
    "# Write 'Hello, world' to the active user's wall.\n",
    "#graph.put_object(parent_object='me', connection_name='feed', message='Hello, world')\n"
   ]
  },
  {
   "cell_type": "code",
   "execution_count": 9,
   "metadata": {
    "collapsed": true
   },
   "outputs": [],
   "source": [
    "def account_info(token, user_id):\n",
    "    graph = facebook.GraphAPI(token)\n",
    "    #fields = ['first_name','Location','email','link']\n",
    "    profile = graph.get_object(id=user_id)    \n",
    "    #return desired fields\n",
    "    print(json.dumps(profile, indent=4))\n",
    "    \n",
    "    return profile\n",
    "          \n",
    " "
   ]
  },
  {
   "cell_type": "code",
   "execution_count": 11,
   "metadata": {},
   "outputs": [
    {
     "ename": "GraphAPIError",
     "evalue": "(#10) This endpoint requires the 'pages_read_engagement' permission or the 'Page Public Content Access' feature. Refer to https://developers.facebook.com/docs/apps/review/login-permissions#manage-pages and https://developers.facebook.com/docs/apps/review/feature#reference-PAGES_ACCESS for details.",
     "output_type": "error",
     "traceback": [
      "\u001b[0;31m---------------------------------------------------------------------------\u001b[0m",
      "\u001b[0;31mGraphAPIError\u001b[0m                             Traceback (most recent call last)",
      "\u001b[0;32m<ipython-input-11-8d3c4f6317a0>\u001b[0m in \u001b[0;36m<module>\u001b[0;34m()\u001b[0m\n\u001b[1;32m      1\u001b[0m \u001b[0;31m#account_info(token,'109552446950122')\u001b[0m\u001b[0;34m\u001b[0m\u001b[0;34m\u001b[0m\u001b[0m\n\u001b[0;32m----> 2\u001b[0;31m \u001b[0maccount_info\u001b[0m\u001b[0;34m(\u001b[0m\u001b[0mtokenapp\u001b[0m\u001b[0;34m,\u001b[0m \u001b[0;34m'200059547026318'\u001b[0m\u001b[0;34m)\u001b[0m\u001b[0;34m\u001b[0m\u001b[0m\n\u001b[0m",
      "\u001b[0;32m<ipython-input-9-a93d4c0a821e>\u001b[0m in \u001b[0;36maccount_info\u001b[0;34m(token, user_id)\u001b[0m\n\u001b[1;32m      2\u001b[0m     \u001b[0mgraph\u001b[0m \u001b[0;34m=\u001b[0m \u001b[0mfacebook\u001b[0m\u001b[0;34m.\u001b[0m\u001b[0mGraphAPI\u001b[0m\u001b[0;34m(\u001b[0m\u001b[0mtoken\u001b[0m\u001b[0;34m)\u001b[0m\u001b[0;34m\u001b[0m\u001b[0m\n\u001b[1;32m      3\u001b[0m     \u001b[0;31m#fields = ['first_name','Location','email','link']\u001b[0m\u001b[0;34m\u001b[0m\u001b[0;34m\u001b[0m\u001b[0m\n\u001b[0;32m----> 4\u001b[0;31m     \u001b[0mprofile\u001b[0m \u001b[0;34m=\u001b[0m \u001b[0mgraph\u001b[0m\u001b[0;34m.\u001b[0m\u001b[0mget_object\u001b[0m\u001b[0;34m(\u001b[0m\u001b[0mid\u001b[0m\u001b[0;34m=\u001b[0m\u001b[0muser_id\u001b[0m\u001b[0;34m)\u001b[0m\u001b[0;34m\u001b[0m\u001b[0m\n\u001b[0m\u001b[1;32m      5\u001b[0m     \u001b[0;31m#return desired fields\u001b[0m\u001b[0;34m\u001b[0m\u001b[0;34m\u001b[0m\u001b[0m\n\u001b[1;32m      6\u001b[0m     \u001b[0mprint\u001b[0m\u001b[0;34m(\u001b[0m\u001b[0mjson\u001b[0m\u001b[0;34m.\u001b[0m\u001b[0mdumps\u001b[0m\u001b[0;34m(\u001b[0m\u001b[0mprofile\u001b[0m\u001b[0;34m,\u001b[0m \u001b[0mindent\u001b[0m\u001b[0;34m=\u001b[0m\u001b[0;36m4\u001b[0m\u001b[0;34m)\u001b[0m\u001b[0;34m)\u001b[0m\u001b[0;34m\u001b[0m\u001b[0m\n",
      "\u001b[0;32m~/anaconda3/lib/python3.6/site-packages/facebook/__init__.py\u001b[0m in \u001b[0;36mget_object\u001b[0;34m(self, id, **args)\u001b[0m\n\u001b[1;32m    124\u001b[0m     \u001b[0;32mdef\u001b[0m \u001b[0mget_object\u001b[0m\u001b[0;34m(\u001b[0m\u001b[0mself\u001b[0m\u001b[0;34m,\u001b[0m \u001b[0mid\u001b[0m\u001b[0;34m,\u001b[0m \u001b[0;34m**\u001b[0m\u001b[0margs\u001b[0m\u001b[0;34m)\u001b[0m\u001b[0;34m:\u001b[0m\u001b[0;34m\u001b[0m\u001b[0m\n\u001b[1;32m    125\u001b[0m         \u001b[0;34m\"\"\"Fetches the given object from the graph.\"\"\"\u001b[0m\u001b[0;34m\u001b[0m\u001b[0m\n\u001b[0;32m--> 126\u001b[0;31m         \u001b[0;32mreturn\u001b[0m \u001b[0mself\u001b[0m\u001b[0;34m.\u001b[0m\u001b[0mrequest\u001b[0m\u001b[0;34m(\u001b[0m\u001b[0;34m\"{0}/{1}\"\u001b[0m\u001b[0;34m.\u001b[0m\u001b[0mformat\u001b[0m\u001b[0;34m(\u001b[0m\u001b[0mself\u001b[0m\u001b[0;34m.\u001b[0m\u001b[0mversion\u001b[0m\u001b[0;34m,\u001b[0m \u001b[0mid\u001b[0m\u001b[0;34m)\u001b[0m\u001b[0;34m,\u001b[0m \u001b[0margs\u001b[0m\u001b[0;34m)\u001b[0m\u001b[0;34m\u001b[0m\u001b[0m\n\u001b[0m\u001b[1;32m    127\u001b[0m \u001b[0;34m\u001b[0m\u001b[0m\n\u001b[1;32m    128\u001b[0m     \u001b[0;32mdef\u001b[0m \u001b[0mget_objects\u001b[0m\u001b[0;34m(\u001b[0m\u001b[0mself\u001b[0m\u001b[0;34m,\u001b[0m \u001b[0mids\u001b[0m\u001b[0;34m,\u001b[0m \u001b[0;34m**\u001b[0m\u001b[0margs\u001b[0m\u001b[0;34m)\u001b[0m\u001b[0;34m:\u001b[0m\u001b[0;34m\u001b[0m\u001b[0m\n",
      "\u001b[0;32m~/anaconda3/lib/python3.6/site-packages/facebook/__init__.py\u001b[0m in \u001b[0;36mrequest\u001b[0;34m(self, path, args, post_args, files, method)\u001b[0m\n\u001b[1;32m    311\u001b[0m \u001b[0;34m\u001b[0m\u001b[0m\n\u001b[1;32m    312\u001b[0m         \u001b[0;32mif\u001b[0m \u001b[0mresult\u001b[0m \u001b[0;32mand\u001b[0m \u001b[0misinstance\u001b[0m\u001b[0;34m(\u001b[0m\u001b[0mresult\u001b[0m\u001b[0;34m,\u001b[0m \u001b[0mdict\u001b[0m\u001b[0;34m)\u001b[0m \u001b[0;32mand\u001b[0m \u001b[0mresult\u001b[0m\u001b[0;34m.\u001b[0m\u001b[0mget\u001b[0m\u001b[0;34m(\u001b[0m\u001b[0;34m\"error\"\u001b[0m\u001b[0;34m)\u001b[0m\u001b[0;34m:\u001b[0m\u001b[0;34m\u001b[0m\u001b[0m\n\u001b[0;32m--> 313\u001b[0;31m             \u001b[0;32mraise\u001b[0m \u001b[0mGraphAPIError\u001b[0m\u001b[0;34m(\u001b[0m\u001b[0mresult\u001b[0m\u001b[0;34m)\u001b[0m\u001b[0;34m\u001b[0m\u001b[0m\n\u001b[0m\u001b[1;32m    314\u001b[0m         \u001b[0;32mreturn\u001b[0m \u001b[0mresult\u001b[0m\u001b[0;34m\u001b[0m\u001b[0m\n\u001b[1;32m    315\u001b[0m \u001b[0;34m\u001b[0m\u001b[0m\n",
      "\u001b[0;31mGraphAPIError\u001b[0m: (#10) This endpoint requires the 'pages_read_engagement' permission or the 'Page Public Content Access' feature. Refer to https://developers.facebook.com/docs/apps/review/login-permissions#manage-pages and https://developers.facebook.com/docs/apps/review/feature#reference-PAGES_ACCESS for details."
     ]
    }
   ],
   "source": [
    "#account_info(token,'109552446950122')\n",
    "account_info(tokenapp, '200059547026318')"
   ]
  },
  {
   "cell_type": "code",
   "execution_count": 14,
   "metadata": {
    "collapsed": true
   },
   "outputs": [],
   "source": [
    "def page_info(token,page_name):\n",
    "    graph = facebook.GraphAPI(token, version=2.9)\n",
    "    # list of required fields\n",
    "    fields = ['id','name','about','likes','link','band_members']\n",
    "    fields = ','.join(fields)\n",
    "    page = graph.get_object(page_name, fields=fields)\n",
    "    print(json.dumps(page,indent=4))\n",
    "\n",
    "    return page"
   ]
  },
  {
   "cell_type": "code",
   "execution_count": 15,
   "metadata": {},
   "outputs": [
    {
     "ename": "GraphAPIError",
     "evalue": "(#100) Page Public Metadata Access requires either app secret proof or an app token",
     "output_type": "error",
     "traceback": [
      "\u001b[0;31m---------------------------------------------------------------------------\u001b[0m",
      "\u001b[0;31mGraphAPIError\u001b[0m                             Traceback (most recent call last)",
      "\u001b[0;32m<ipython-input-15-72712c42a9de>\u001b[0m in \u001b[0;36m<module>\u001b[0;34m()\u001b[0m\n\u001b[0;32m----> 1\u001b[0;31m \u001b[0mpage_info\u001b[0m\u001b[0;34m(\u001b[0m\u001b[0mtoken\u001b[0m\u001b[0;34m,\u001b[0m\u001b[0;34m'Coldplay'\u001b[0m\u001b[0;34m)\u001b[0m\u001b[0;34m\u001b[0m\u001b[0m\n\u001b[0m",
      "\u001b[0;32m<ipython-input-14-8ebec601f8cc>\u001b[0m in \u001b[0;36mpage_info\u001b[0;34m(token, page_name)\u001b[0m\n\u001b[1;32m      4\u001b[0m     \u001b[0mfields\u001b[0m \u001b[0;34m=\u001b[0m \u001b[0;34m[\u001b[0m\u001b[0;34m'id'\u001b[0m\u001b[0;34m,\u001b[0m\u001b[0;34m'name'\u001b[0m\u001b[0;34m,\u001b[0m\u001b[0;34m'about'\u001b[0m\u001b[0;34m,\u001b[0m\u001b[0;34m'likes'\u001b[0m\u001b[0;34m,\u001b[0m\u001b[0;34m'link'\u001b[0m\u001b[0;34m,\u001b[0m\u001b[0;34m'band_members'\u001b[0m\u001b[0;34m]\u001b[0m\u001b[0;34m\u001b[0m\u001b[0m\n\u001b[1;32m      5\u001b[0m     \u001b[0mfields\u001b[0m \u001b[0;34m=\u001b[0m \u001b[0;34m','\u001b[0m\u001b[0;34m.\u001b[0m\u001b[0mjoin\u001b[0m\u001b[0;34m(\u001b[0m\u001b[0mfields\u001b[0m\u001b[0;34m)\u001b[0m\u001b[0;34m\u001b[0m\u001b[0m\n\u001b[0;32m----> 6\u001b[0;31m     \u001b[0mpage\u001b[0m \u001b[0;34m=\u001b[0m \u001b[0mgraph\u001b[0m\u001b[0;34m.\u001b[0m\u001b[0mget_object\u001b[0m\u001b[0;34m(\u001b[0m\u001b[0mpage_name\u001b[0m\u001b[0;34m,\u001b[0m \u001b[0mfields\u001b[0m\u001b[0;34m=\u001b[0m\u001b[0mfields\u001b[0m\u001b[0;34m)\u001b[0m\u001b[0;34m\u001b[0m\u001b[0m\n\u001b[0m\u001b[1;32m      7\u001b[0m     \u001b[0mprint\u001b[0m\u001b[0;34m(\u001b[0m\u001b[0mjson\u001b[0m\u001b[0;34m.\u001b[0m\u001b[0mdumps\u001b[0m\u001b[0;34m(\u001b[0m\u001b[0mpage\u001b[0m\u001b[0;34m,\u001b[0m\u001b[0mindent\u001b[0m\u001b[0;34m=\u001b[0m\u001b[0;36m4\u001b[0m\u001b[0;34m)\u001b[0m\u001b[0;34m)\u001b[0m\u001b[0;34m\u001b[0m\u001b[0m\n\u001b[1;32m      8\u001b[0m \u001b[0;34m\u001b[0m\u001b[0m\n",
      "\u001b[0;32m~/anaconda3/lib/python3.6/site-packages/facebook/__init__.py\u001b[0m in \u001b[0;36mget_object\u001b[0;34m(self, id, **args)\u001b[0m\n\u001b[1;32m    124\u001b[0m     \u001b[0;32mdef\u001b[0m \u001b[0mget_object\u001b[0m\u001b[0;34m(\u001b[0m\u001b[0mself\u001b[0m\u001b[0;34m,\u001b[0m \u001b[0mid\u001b[0m\u001b[0;34m,\u001b[0m \u001b[0;34m**\u001b[0m\u001b[0margs\u001b[0m\u001b[0;34m)\u001b[0m\u001b[0;34m:\u001b[0m\u001b[0;34m\u001b[0m\u001b[0m\n\u001b[1;32m    125\u001b[0m         \u001b[0;34m\"\"\"Fetches the given object from the graph.\"\"\"\u001b[0m\u001b[0;34m\u001b[0m\u001b[0m\n\u001b[0;32m--> 126\u001b[0;31m         \u001b[0;32mreturn\u001b[0m \u001b[0mself\u001b[0m\u001b[0;34m.\u001b[0m\u001b[0mrequest\u001b[0m\u001b[0;34m(\u001b[0m\u001b[0;34m\"{0}/{1}\"\u001b[0m\u001b[0;34m.\u001b[0m\u001b[0mformat\u001b[0m\u001b[0;34m(\u001b[0m\u001b[0mself\u001b[0m\u001b[0;34m.\u001b[0m\u001b[0mversion\u001b[0m\u001b[0;34m,\u001b[0m \u001b[0mid\u001b[0m\u001b[0;34m)\u001b[0m\u001b[0;34m,\u001b[0m \u001b[0margs\u001b[0m\u001b[0;34m)\u001b[0m\u001b[0;34m\u001b[0m\u001b[0m\n\u001b[0m\u001b[1;32m    127\u001b[0m \u001b[0;34m\u001b[0m\u001b[0m\n\u001b[1;32m    128\u001b[0m     \u001b[0;32mdef\u001b[0m \u001b[0mget_objects\u001b[0m\u001b[0;34m(\u001b[0m\u001b[0mself\u001b[0m\u001b[0;34m,\u001b[0m \u001b[0mids\u001b[0m\u001b[0;34m,\u001b[0m \u001b[0;34m**\u001b[0m\u001b[0margs\u001b[0m\u001b[0;34m)\u001b[0m\u001b[0;34m:\u001b[0m\u001b[0;34m\u001b[0m\u001b[0m\n",
      "\u001b[0;32m~/anaconda3/lib/python3.6/site-packages/facebook/__init__.py\u001b[0m in \u001b[0;36mrequest\u001b[0;34m(self, path, args, post_args, files, method)\u001b[0m\n\u001b[1;32m    311\u001b[0m \u001b[0;34m\u001b[0m\u001b[0m\n\u001b[1;32m    312\u001b[0m         \u001b[0;32mif\u001b[0m \u001b[0mresult\u001b[0m \u001b[0;32mand\u001b[0m \u001b[0misinstance\u001b[0m\u001b[0;34m(\u001b[0m\u001b[0mresult\u001b[0m\u001b[0;34m,\u001b[0m \u001b[0mdict\u001b[0m\u001b[0;34m)\u001b[0m \u001b[0;32mand\u001b[0m \u001b[0mresult\u001b[0m\u001b[0;34m.\u001b[0m\u001b[0mget\u001b[0m\u001b[0;34m(\u001b[0m\u001b[0;34m\"error\"\u001b[0m\u001b[0;34m)\u001b[0m\u001b[0;34m:\u001b[0m\u001b[0;34m\u001b[0m\u001b[0m\n\u001b[0;32m--> 313\u001b[0;31m             \u001b[0;32mraise\u001b[0m \u001b[0mGraphAPIError\u001b[0m\u001b[0;34m(\u001b[0m\u001b[0mresult\u001b[0m\u001b[0;34m)\u001b[0m\u001b[0;34m\u001b[0m\u001b[0m\n\u001b[0m\u001b[1;32m    314\u001b[0m         \u001b[0;32mreturn\u001b[0m \u001b[0mresult\u001b[0m\u001b[0;34m\u001b[0m\u001b[0m\n\u001b[1;32m    315\u001b[0m \u001b[0;34m\u001b[0m\u001b[0m\n",
      "\u001b[0;31mGraphAPIError\u001b[0m: (#100) Page Public Metadata Access requires either app secret proof or an app token"
     ]
    }
   ],
   "source": [
    "page_info(token,'Coldplay')"
   ]
  },
  {
   "cell_type": "markdown",
   "metadata": {},
   "source": [
    "# Downloading contents from URL"
   ]
  },
  {
   "cell_type": "code",
   "execution_count": 3,
   "metadata": {},
   "outputs": [
    {
     "data": {
      "text/plain": [
       "1150"
      ]
     },
     "execution_count": 3,
     "metadata": {},
     "output_type": "execute_result"
    }
   ],
   "source": [
    "#get the link or url\n",
    "url = 'https://www.facebook.com/favicon.ico'\n",
    "r = requests.get(url, allow_redirects=True)\n",
    "\n",
    "#Save the content with name\n",
    "open('dataframe.csv', 'wb').write(r.content)"
   ]
  },
  {
   "cell_type": "code",
   "execution_count": 4,
   "metadata": {
    "collapsed": true
   },
   "outputs": [],
   "source": [
    "dataset = pd.read_csv('leads emaus campaña formulario de 8 al 11 junio.csv')"
   ]
  },
  {
   "cell_type": "code",
   "execution_count": 5,
   "metadata": {},
   "outputs": [
    {
     "data": {
      "text/plain": [
       "array(['independiente', 'empleado', 'Empleado', 'si', 'no', 'contratista',\n",
       "       'enpleado', 'Independiente', 'otro motivo', 'empleada',\n",
       "       'soy pensionada', 'empleda', 'Quiero recibir información',\n",
       "       'empleada y pensionada', 'pensionada', 'soy empleada', 'emplesdo',\n",
       "       'Pensionado', 'dependiente', 'independientemente', 'independidnte'],\n",
       "      dtype=object)"
      ]
     },
     "execution_count": 5,
     "metadata": {},
     "output_type": "execute_result"
    }
   ],
   "source": [
    "dataset.columns = ['id','created_time','ad_id','ad_name','adset_id','adset_name','campaign_id',\n",
    "                   'campaign_name','form_id','form_name','is_organic',\n",
    "                   'platform','caja compensación','salario (2-4SM)',\n",
    "                   'situación laboral','nombre','email','phone_number']\n",
    "\n",
    "#dataset.info()\n",
    "dataset['situación laboral'].unique()\n",
    "#dataset[\"id\"].nunique()"
   ]
  },
  {
   "cell_type": "code",
   "execution_count": 6,
   "metadata": {
    "collapsed": true,
    "tags": []
   },
   "outputs": [],
   "source": [
    "#=====================================\n",
    "# Function to standarize answers\n",
    "#=====================================\n",
    "import unidecode\n",
    "\n",
    "def estandarizar(string,diccionario):\n",
    "    #this line convert the string with accents and mayus into lowercase and non-accent string.\n",
    "    string = unidecode.unidecode(string).lower() #accented_string is of type 'unicode'\n",
    "\n",
    "    for standar_resp in diccionario: #ciclo sobre \"keys\" del dicc\n",
    "        for resp in diccionario[standar_resp]: \n",
    "            #diccionario[standar_resp] = valores del key ---> en este caso listas\n",
    "            if resp in string:\n",
    "                return standar_resp \n",
    "            \n",
    "    return string\n",
    "\n",
    "#==================================\n",
    "#plotting function\n",
    "#==================================\n",
    "\n",
    "def plotting(dataframe, a,r): \n",
    "    dataframe.plot(kind='bar',figsize=(8,6))   \n",
    "    plt.style.use('seaborn-dark-palette')\n",
    "    plt.title(a,fontsize='15')\n",
    "    plt.xlabel('¿' + dataframe.index.name + '?',fontsize='12')\n",
    "    plt.ylabel('Leads',fontsize='12')\n",
    "    plt.legend(loc='upper right', labels=dataframe.columns.values,fontsize='12')\n",
    "    plt.grid()\n",
    "    plt.xticks(rotation=r)\n",
    "    plt.show()\n",
    "    \n"
   ]
  },
  {
   "cell_type": "code",
   "execution_count": 7,
   "metadata": {
    "collapsed": true
   },
   "outputs": [],
   "source": [
    "#=======\n",
    "#listas\n",
    "#=======\n",
    "s_respuestas_salario= ['si','sí','Dos salarios minimos','si 2', '2', 'dos',\n",
    "                            '3 salario minimo','5 salarios', 'Si','de 2 a 4 salarios']\n",
    "\n",
    "n_respuestas_salario = ['no', '1','el minimo','si menos de 2 salarios minimos',\n",
    "                           '1 salario minimo','1 salario', 'un salario','el salario'\n",
    "                           '1000000', 'uno','no gano', 'nada','solo uno']\n",
    "\n",
    "s_respuestas_caja = [\"si\",\"con\",\"com\"]\n",
    "\n",
    "n_respuestas_caja = [\"no\",\"porvenir\"]\n",
    "\n",
    "\n",
    "resp_empleados = ['em','enpleado']\n",
    "resp_indep = ['ind','cont', 'dependiente']\n",
    "resp_pen = ['ionad']\n",
    "malas_respuestas = ['si','no','otro motivo', 'quiero recibir informacion']\n",
    "\n",
    "#==============\n",
    "#diccionarios\n",
    "#===============\n",
    "diccionario_laboral = {'empleado':resp_empleados,\n",
    "                       'independiente':resp_indep,\n",
    "                       'pensionado':resp_pen,\n",
    "                       'no aplica':malas_respuestas} \n",
    "\n",
    "diccionario_caja = {'si':s_respuestas_caja,\n",
    "                    'no':n_respuestas_caja} \n",
    "\n",
    "diccionario_salario = {'si':s_respuestas_salario,\n",
    "                       'no':n_respuestas_salario} "
   ]
  },
  {
   "cell_type": "code",
   "execution_count": 8,
   "metadata": {},
   "outputs": [
    {
     "name": "stdout",
     "output_type": "stream",
     "text": [
      "['no' 'si'] ['independiente' 'empleado' 'no aplica' 'pensionado'] ['no' 'si']\n",
      "125 123 76\n"
     ]
    }
   ],
   "source": [
    "\n",
    "#===========================================================\n",
    "#standarizing answers \"tiene caja de compensación\": si - no\n",
    "#===========================================================\n",
    "\n",
    "dataset[\"caja compensación\"]=\\\n",
    "dataset[\"caja compensación\"].apply(lambda x: estandarizar(x, diccionario_caja))\n",
    "\n",
    "#=========================================\n",
    "#standarizing answer: salario minimo 2-4\n",
    "#=========================================\n",
    "\n",
    "\n",
    "dataset[\"salario (2-4SM)\"] = \\\n",
    "dataset[\"salario (2-4SM)\"].apply(lambda x: estandarizar(x,diccionario_salario))\n",
    "\n",
    "#==========================================================\n",
    "#standarizing answer: empleado - independiente - pensiondo\n",
    "#==========================================================\n",
    "\n",
    "dataset[\"situación laboral\"] = \\\n",
    "dataset[\"situación laboral\"].apply(lambda x: estandarizar(x,diccionario_laboral))\n",
    "\n",
    "\n",
    "print(dataset['caja compensación'].unique(), end =\" \")\n",
    "print(dataset['situación laboral'].unique(), end =\" \")\n",
    "print(dataset['salario (2-4SM)'].unique())\n",
    "\n",
    "#número de afiliados a caja de compensación\n",
    "print(dataset[dataset['caja compensación']=='si']['id'].nunique(),end =\" \")\n",
    "\n",
    "#número de empleados\n",
    "print(dataset[dataset['situación laboral']=='empleado']['id'].nunique(),end =\" \")\n",
    "\n",
    "#número de leads que satisfacen \n",
    "print(dataset[dataset['salario (2-4SM)']=='si']['id'].nunique())"
   ]
  },
  {
   "cell_type": "markdown",
   "metadata": {},
   "source": [
    "# Write new files with filter DataFrame"
   ]
  },
  {
   "cell_type": "code",
   "execution_count": 9,
   "metadata": {},
   "outputs": [
    {
     "name": "stdout",
     "output_type": "stream",
     "text": [
      "<class 'pandas.core.frame.DataFrame'>\n",
      "Int64Index: 49 entries, 2 to 160\n",
      "Data columns (total 18 columns):\n",
      "id                   49 non-null int64\n",
      "created_time         49 non-null object\n",
      "ad_id                49 non-null int64\n",
      "ad_name              49 non-null object\n",
      "adset_id             49 non-null int64\n",
      "adset_name           49 non-null object\n",
      "campaign_id          49 non-null int64\n",
      "campaign_name        49 non-null object\n",
      "form_id              49 non-null int64\n",
      "form_name            49 non-null object\n",
      "is_organic           49 non-null bool\n",
      "platform             49 non-null object\n",
      "caja compensación    49 non-null object\n",
      "salario (2-4SM)      49 non-null object\n",
      "situación laboral    49 non-null object\n",
      "nombre               49 non-null object\n",
      "email                49 non-null object\n",
      "phone_number         49 non-null int64\n",
      "dtypes: bool(1), int64(6), object(11)\n",
      "memory usage: 6.9+ KB\n",
      "None\n"
     ]
    }
   ],
   "source": [
    "#=========================================================\n",
    "#afiliados a caja de compensación y con salario entre 2-4\n",
    "#=========================================================\n",
    "\n",
    "leads = dataset[(dataset['caja compensación']=='si') & (dataset['salario (2-4SM)']=='si')]\n",
    "\n",
    "#================================================================================\n",
    "#empleados o pensionados, afiliados a caja de compensación, con salario entre 2-4\n",
    "#================================================================================\n",
    "\n",
    "ideal_leads = leads[(leads['situación laboral'] == 'empleado') | (leads['situación laboral'] == 'pensionado')]\n",
    "\n",
    "#=======================================================================\n",
    "#independientes, afiliados a caja de compensación, con salario entre 2-4\n",
    "#=======================================================================\n",
    "\n",
    "indp_leads = leads[(leads['situación laboral'] == 'independiente')]\n",
    "\n",
    "#================================\n",
    "#write dataframes into csv files\n",
    "#================================\n",
    "\n",
    "ideal_leads.to_csv('ideal_leads.csv')\n",
    "\n",
    "print(ideal_leads.info())\n"
   ]
  },
  {
   "cell_type": "markdown",
   "metadata": {},
   "source": [
    "# Analysis "
   ]
  },
  {
   "cell_type": "code",
   "execution_count": 355,
   "metadata": {
    "collapsed": true
   },
   "outputs": [],
   "source": [
    "dataset = dataset[['id','created_time','caja compensación','salario (2-4SM)',\n",
    "                   'situación laboral','nombre','email','phone_number']]\n",
    "\n",
    "#dataset.set_index('id',drop=True)"
   ]
  },
  {
   "cell_type": "code",
   "execution_count": 356,
   "metadata": {
    "collapsed": true
   },
   "outputs": [],
   "source": [
    "#dataset.pivot(index='caja compensación', columns='salario (2-4SM)', values='situación laboral')\n",
    "#dataset.pivot(columns='situación laboral', values='salario (2-4SM)')\n",
    "#dataset.pivot_table(index='situación laboral',columns='caja compensación', values='salario (2-4SM)')\n",
    "\n",
    "dataset['created_time'] = pd.to_datetime(dataset['created_time'])\n",
    "dataset['date of creation'] = dataset['created_time'].dt.date \n"
   ]
  },
  {
   "cell_type": "code",
   "execution_count": 357,
   "metadata": {},
   "outputs": [
    {
     "data": {
      "image/png": "[encoded data removed]",
      "text/plain": [
       "<matplotlib.figure.Figure at 0x7f8400e4e7b8>"
      ]
     },
     "metadata": {},
     "output_type": "display_data"
    },
    {
     "data": {
      "image/png": "[encoded data removed]",
      "text/plain": [
       "<matplotlib.figure.Figure at 0x7f83f99b5320>"
      ]
     },
     "metadata": {},
     "output_type": "display_data"
    }
   ],
   "source": [
    "#=============================================================\n",
    "#dataset fullfilling salary condition, then\n",
    "#group by situación laboral & caja and count \n",
    "#=============================================================\n",
    "\n",
    "dataset_leads = dataset[dataset['salario (2-4SM)'] == 'si'].\\\n",
    "                groupby(['caja compensación','situación laboral'])['id'].count()\n",
    "    \n",
    "#=============================================================\n",
    "#dataset not fullfilling salary condition, then\n",
    "#group by situación laboral & caja and count\n",
    "#=============================================================\n",
    "\n",
    "data_leads_nosalary = dataset[dataset['salario (2-4SM)'] == 'no'].\\\n",
    "                groupby(['caja compensación','situación laboral'])['id'].count()\n",
    "\n",
    "#========================================================\n",
    "#converting to dataframe and unstack by situación laboral\n",
    "#========================================================\n",
    "\n",
    "dataset_leads =pd.DataFrame(dataset_leads.unstack(level=1))\n",
    "data_leads_nosalary =pd.DataFrame(data_leads_nosalary.unstack(level=1))\n",
    "\n",
    "\n",
    "#=====================\n",
    "#plotting results\n",
    "#=====================\n",
    "\n",
    "plotting(data_leads_nosalary, 'Leads fulfilling salary condition',0)\n",
    "plotting(dataset_leads, 'Leads not fulfilling salary condition',0)\n"
   ]
  },
  {
   "cell_type": "code",
   "execution_count": 359,
   "metadata": {},
   "outputs": [
    {
     "data": {
      "image/png": "[encoded data removed]",
      "text/plain": [
       "<matplotlib.figure.Figure at 0x7f83f9966128>"
      ]
     },
     "metadata": {},
     "output_type": "display_data"
    }
   ],
   "source": [
    "#=============================================================\n",
    "#dataset fullfilling condition of salary and caja compensación\n",
    "# by date\n",
    "#=============================================================\n",
    "\n",
    "salary_caja = dataset[(dataset['salario (2-4SM)'] == 'si')& (dataset['caja compensación'] == 'si')].\\\n",
    "                groupby(['date of creation','situación laboral'])['id'].count()\n",
    "\n",
    "salary_caja = pd.DataFrame(salary_caja.unstack(level=1))\n",
    "\n",
    "plotting(salary_caja,'Leads fullfilling salary & afiliation conditions',45)"
   ]
  },
  {
   "cell_type": "code",
   "execution_count": null,
   "metadata": {
    "collapsed": true
   },
   "outputs": [],
   "source": []
  }
 ],
 "metadata": {
  "kernelspec": {
   "display_name": "Python 3",
   "language": "python",
   "name": "python3"
  },
  "language_info": {
   "codemirror_mode": {
    "name": "ipython",
    "version": 3
   },
   "file_extension": ".py",
   "mimetype": "text/x-python",
   "name": "python",
   "nbconvert_exporter": "python",
   "pygments_lexer": "ipython3",
   "version": "3.6.3"
  }
 },
 "nbformat": 4,
 "nbformat_minor": 2
}
