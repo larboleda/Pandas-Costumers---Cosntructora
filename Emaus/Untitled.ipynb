{
 "cells": [
  {
   "cell_type": "code",
   "execution_count": null,
   "metadata": {
    "collapsed": true
   },
   "outputs": [],
   "source": [
    "from facebook_business.adobjects.abstractobject import AbstractObject\n",
    "from facebook_business.adobjects.abstractcrudobject import AbstractCrudObject\n",
    "from facebook_business.adobjects.objectparser import ObjectParser\n",
    "from facebook_business.api import FacebookRequest\n",
    "from facebook_business.typechecker import TypeChecker"
   ]
  },
  {
   "cell_type": "code",
   "execution_count": 3,
   "metadata": {},
   "outputs": [
    {
     "ename": "NameError",
     "evalue": "name 'AbstractCrudObject' is not defined",
     "output_type": "error",
     "traceback": [
      "\u001b[0;31m---------------------------------------------------------------------------\u001b[0m",
      "\u001b[0;31mNameError\u001b[0m                                 Traceback (most recent call last)",
      "\u001b[0;32m<ipython-input-3-cc3ce2238fb6>\u001b[0m in \u001b[0;36m<module>\u001b[0;34m()\u001b[0m\n\u001b[1;32m      6\u001b[0m \"\"\"\n\u001b[1;32m      7\u001b[0m \u001b[0;34m\u001b[0m\u001b[0m\n\u001b[0;32m----> 8\u001b[0;31m \u001b[0;32mclass\u001b[0m \u001b[0mAdCampaignGroupStats\u001b[0m\u001b[0;34m(\u001b[0m\u001b[0mAbstractCrudObject\u001b[0m\u001b[0;34m)\u001b[0m\u001b[0;34m:\u001b[0m\u001b[0;34m\u001b[0m\u001b[0m\n\u001b[0m\u001b[1;32m      9\u001b[0m \u001b[0;34m\u001b[0m\u001b[0m\n\u001b[1;32m     10\u001b[0m     \u001b[0;32mdef\u001b[0m \u001b[0m__init__\u001b[0m\u001b[0;34m(\u001b[0m\u001b[0mself\u001b[0m\u001b[0;34m,\u001b[0m \u001b[0mfbid\u001b[0m\u001b[0;34m=\u001b[0m\u001b[0;32mNone\u001b[0m\u001b[0;34m,\u001b[0m \u001b[0mparent_id\u001b[0m\u001b[0;34m=\u001b[0m\u001b[0;32mNone\u001b[0m\u001b[0;34m,\u001b[0m \u001b[0mapi\u001b[0m\u001b[0;34m=\u001b[0m\u001b[0;32mNone\u001b[0m\u001b[0;34m)\u001b[0m\u001b[0;34m:\u001b[0m\u001b[0;34m\u001b[0m\u001b[0m\n",
      "\u001b[0;31mNameError\u001b[0m: name 'AbstractCrudObject' is not defined"
     ]
    }
   ],
   "source": [
    "\"\"\"\n",
    "This class is auto-generated.\n",
    "For any issues or feature requests related to this class, please let us know on\n",
    "github and we'll fix in our codegen framework. We'll not be able to accept\n",
    "pull request for this class.\n",
    "\"\"\"\n",
    "\n",
    "class AdCampaignGroupStats(AbstractCrudObject):\n",
    "\n",
    "    def __init__(self, fbid=None, parent_id=None, api=None):\n",
    "        self._isAdCampaignGroupStats = True\n",
    "        super(AdCampaignGroupStats, self).__init__(fbid, parent_id, api)\n",
    "\n",
    "    class Field(AbstractObject.Field):\n",
    "        actions = 'actions'\n",
    "        campaign_group_id = 'campaign_group_id'\n",
    "        clicks = 'clicks'\n",
    "        end_time = 'end_time'\n",
    "        impressions = 'impressions'\n",
    "        inline_actions = 'inline_actions'\n",
    "        social_clicks = 'social_clicks'\n",
    "        social_impressions = 'social_impressions'\n",
    "        social_spent = 'social_spent'\n",
    "        social_unique_clicks = 'social_unique_clicks'\n",
    "        social_unique_impressions = 'social_unique_impressions'\n",
    "        spent = 'spent'\n",
    "        start_time = 'start_time'\n",
    "        unique_clicks = 'unique_clicks'\n",
    "        unique_impressions = 'unique_impressions'\n",
    "        id = 'id'\n",
    "\n",
    "    _field_types = {\n",
    "        'actions': 'map<string, int>',\n",
    "        'campaign_group_id': 'string',\n",
    "        'clicks': 'unsigned int',\n",
    "        'end_time': 'datetime',\n",
    "        'impressions': 'unsigned int',\n",
    "        'inline_actions': 'map<string, int>',\n",
    "        'social_clicks': 'unsigned int',\n",
    "        'social_impressions': 'unsigned int',\n",
    "        'social_spent': 'unsigned int',\n",
    "        'social_unique_clicks': 'unsigned int',\n",
    "        'social_unique_impressions': 'unsigned int',\n",
    "        'spent': 'unsigned int',\n",
    "        'start_time': 'datetime',\n",
    "        'unique_clicks': 'unsigned int',\n",
    "        'unique_impressions': 'unsigned int',\n",
    "        'id': 'string',\n",
    "    }\n",
    "    @classmethod\n",
    "    def _get_field_enum_info(cls):\n",
    "        field_enum_info = {}\n",
    "        return field_enum_info\n"
   ]
  },
  {
   "cell_type": "code",
   "execution_count": null,
   "metadata": {
    "collapsed": true
   },
   "outputs": [],
   "source": []
  }
 ],
 "metadata": {
  "kernelspec": {
   "display_name": "Python 3",
   "language": "python",
   "name": "python3"
  },
  "language_info": {
   "codemirror_mode": {
    "name": "ipython",
    "version": 3
   },
   "file_extension": ".py",
   "mimetype": "text/x-python",
   "name": "python",
   "nbconvert_exporter": "python",
   "pygments_lexer": "ipython3",
   "version": "3.6.3"
  }
 },
 "nbformat": 4,
 "nbformat_minor": 2
}
